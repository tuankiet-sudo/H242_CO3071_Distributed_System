{
 "cells": [
  {
   "cell_type": "code",
   "execution_count": 1,
   "metadata": {},
   "outputs": [],
   "source": [
    "from pymongo import MongoClient\n",
    "from datetime import datetime\n",
    "import random"
   ]
  },
  {
   "cell_type": "code",
   "execution_count": 2,
   "metadata": {},
   "outputs": [],
   "source": [
    "client = MongoClient(\"mongodb://localhost:27017/\")\n"
   ]
  },
  {
   "cell_type": "code",
   "execution_count": null,
   "metadata": {},
   "outputs": [],
   "source": [
    "client[\"\"]"
   ]
  },
  {
   "cell_type": "code",
   "execution_count": null,
   "metadata": {},
   "outputs": [],
   "source": [
    "\n",
    "db = client[\"smart_meter_db\"]\n",
    "\n",
    "# Create or get collection\n",
    "collection = db[\"meter_readings\"]\n",
    "\n",
    "# Example data insertion\n",
    "data = {\n",
    "    \"meter_id\": \"meter-123\",\n",
    "    \"timestamp\": datetime.utcnow(),\n",
    "    \"metrics\": {\n",
    "        \"energy_consumption\": round(random.uniform(0.1, 5.0), 2),\n",
    "        \"voltage\": round(random.uniform(210, 240), 1),\n",
    "        \"current\": round(random.uniform(5, 30), 2),\n",
    "        \"power_factor\": round(random.uniform(0.8, 1.0), 2),\n",
    "    }\n",
    "}\n",
    "\n",
    "# Insert data into MongoDB\n",
    "result = collection.insert_one(data)\n",
    "print(f\"Inserted document ID: {result.inserted_id}\")\n"
   ]
  }
 ],
 "metadata": {
  "kernelspec": {
   "display_name": "DisSys",
   "language": "python",
   "name": "python3"
  },
  "language_info": {
   "codemirror_mode": {
    "name": "ipython",
    "version": 3
   },
   "file_extension": ".py",
   "mimetype": "text/x-python",
   "name": "python",
   "nbconvert_exporter": "python",
   "pygments_lexer": "ipython3",
   "version": "3.10.16"
  }
 },
 "nbformat": 4,
 "nbformat_minor": 2
}
